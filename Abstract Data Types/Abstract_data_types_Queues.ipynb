{
  "cells": [
    {
      "cell_type": "markdown",
      "metadata": {
        "id": "Eh_wYL6f6zac"
      },
      "source": [
        "#Lesson 66: Abstract Data Types - Queues"
      ]
    },
    {
      "cell_type": "markdown",
      "metadata": {
        "id": "rmIRMMFfVn2i"
      },
      "source": [
        "---"
      ]
    },
    {
      "cell_type": "markdown",
      "metadata": {
        "id": "A5W61Q5V7JGU"
      },
      "source": [
        "---"
      ]
    },
    {
      "cell_type": "markdown",
      "metadata": {
        "id": "O0IrT4UX7kZ_"
      },
      "source": [
        "#### Introduction to the Queues\n",
        "\n",
        "The Queue is a type of linear data structure where the data (element) is queued back to back. \n",
        "\n",
        "Let us consider a scenario where you have to program an application where you have to select a customer for serving orders in the restaurant. Application has to be developed in such a way that the first customer who came first is served and later the second and so on. \n",
        "\n",
        "You would make an application to serve the customer who came first and if later any new customer is added you would add him after all the customers present in the restaurant.  \n",
        "\n",
        "Queues follow the **FIFO** principle. **FIFO** stands for **Fast-in-first-out**. The first element to get in is the first one to get out. \n",
        "\n",
        "The two operations used to apply the queue data structure are:  \n",
        "\n",
        "**1.** **Enqueue (queue)**: Adding an element at the end of the queue.\n",
        "\n",
        "**2.** **Dequeue (queue)**: Removing an element from the start of the queue. \n",
        "\n",
        "\n",
        "**Note:** Sometimes enqueue and dequeue operations are also called **push** and **pop** in the queue, depending upon the reference material. We will stick to enqueue and dequeue to be more precise about the data structure we are referring to. \n",
        "\n",
        "\n",
        "\n",
        "\n",
        "\n",
        "\n"
      ]
    },
    {
      "cell_type": "markdown",
      "metadata": {
        "id": "y71nu69NpDz6"
      },
      "source": [
        "---"
      ]
    },
    {
      "cell_type": "markdown",
      "metadata": {
        "id": "Cw6ObjHqpEWm"
      },
      "source": [
        "#### Task 1: Enqueue Operation\n",
        "\n",
        "Enqueueing an element in the queue is just adding an element at the end of the queue. \n",
        "\n",
        "For now, let us assume a list `queue_1` as a queue.\n",
        "\n",
        "Follow the steps given below to perform enqueue operation on `queue_1` using Python:\n",
        "\n",
        "\n",
        "1. Create an empty list `queue_1` as our empty queue.\n",
        "\n",
        "2. Create the `enqueue()` function. This  function should accept the following two parameters: \n",
        " - `queue`: The queue object, where the element needs to be added.\n",
        " -  `n`: The element to be added.\n",
        "\n",
        "3. Use `append()` function of list inside the `enqueue()` function to append element `n` to `queue`.  \n",
        "\n",
        "3. Enqueue elements `1`, `2`, `3`, `4`, and `5` one by one in the queue by calling the `enqueue()` function for each element.\n",
        "\n",
        "4. Print all the values in the `queue_1` after every `enqueue()` function call.\n",
        "\n"
      ]
    },
    {
      "cell_type": "code",
      "execution_count": null,
      "metadata": {
        "colab": {
          "base_uri": "https://localhost:8080/"
        },
        "id": "u8TR3StpqO3h",
        "outputId": "193a5038-430e-428a-f5b0-a8d4e909f4c4"
      },
      "outputs": [
        {
          "name": "stdout",
          "output_type": "stream",
          "text": [
            "[1]\n",
            "[1, 2]\n",
            "[1, 2, 3]\n",
            "[1, 2, 3, 4]\n"
          ]
        },
        {
          "data": {
            "text/plain": [
              "[1, 2, 3, 4, 5]"
            ]
          },
          "execution_count": 2,
          "metadata": {},
          "output_type": "execute_result"
        }
      ],
      "source": [
        "# S1.1: Create a queue and push 1, 2, 3, 4, and 5\n",
        "queue = []\n",
        "def enqueue(queue, n):\n",
        "  queue.append(n)\n",
        "enqueue(queue, 1)\n",
        "print(queue)\n",
        "enqueue(queue, 2)\n",
        "print(queue)\n",
        "enqueue(queue, 3)\n",
        "print(queue)\n",
        "enqueue(queue, 4)\n",
        "print(queue)\n",
        "enqueue(queue, 5)\n",
        "queue"
      ]
    },
    {
      "cell_type": "markdown",
      "metadata": {
        "id": "a4ZuO6zhqufh"
      },
      "source": [
        "You may observe that the numbers `1`, `2`, `3`, `4`, and `5` are added to the queue. This was fairly easy. Let's see how other operations in the queue work. \n",
        "\n",
        "Note that the order of the elements enqueued matter because of the FIFO principle."
      ]
    },
    {
      "cell_type": "markdown",
      "metadata": {
        "id": "6m_RjhF7q6lH"
      },
      "source": [
        "---"
      ]
    },
    {
      "cell_type": "markdown",
      "metadata": {
        "id": "Gc4buyVhq7L_"
      },
      "source": [
        "#### Task 2: Dequeue Operation\n",
        "\n",
        "\n",
        "Dequeueing an element in the queue is just eliminating an element from the start of the queue. \n",
        "\n",
        "Again assuming  list `queue_1` as a queue of elements created in the above activity, let's dequeue elements from this queue. \n",
        "\n",
        "Follow the steps given below to perform enqueue operation on `queue_1` using Python:\n",
        "\n",
        "\n",
        "1. Create a `dequeue()` function. This  function should accept the `queue` object as a parameter.\n",
        "\n",
        "2. Use the `pop(0)` function of the list inside `dequeue()` function  to remove the first element from  the `queue` and also return the element removed. \n",
        "\n",
        "2. Dequeue three elements by calling `dequeue()` function thrice. \n",
        "\n",
        "3. Print all the values in the `queue_1` after every `dequeue()` function call.\n",
        "\n",
        "\n",
        "\n",
        "\n"
      ]
    },
    {
      "cell_type": "code",
      "execution_count": null,
      "metadata": {
        "colab": {
          "base_uri": "https://localhost:8080/"
        },
        "id": "5OILTdoEsDPi",
        "outputId": "ca2b45a1-dc8e-4e65-c8fa-119cb2cedb3e"
      },
      "outputs": [
        {
          "name": "stdout",
          "output_type": "stream",
          "text": [
            "[1, 2, 3, 4]\n",
            "[1, 2, 3]\n",
            "[1, 2]\n",
            "[1]\n"
          ]
        }
      ],
      "source": [
        "# S2.1: Dequeue elements three times and print them \n",
        "def dequeue(queue):\n",
        "  return queue.pop()\n",
        "dequeue(queue)\n",
        "print(queue)\n",
        "dequeue(queue)\n",
        "print(queue)\n",
        "dequeue(queue)\n",
        "print(queue)\n",
        "dequeue(queue)\n",
        "print(queue)\n"
      ]
    },
    {
      "cell_type": "markdown",
      "metadata": {
        "id": "oZQ4uuyi_hlF"
      },
      "source": [
        "You may observe that the numbers `1`, `2`, and `3` are dequeued one by one each time the `dequeue()` function is called.\n",
        "\n",
        "\n",
        "\n"
      ]
    },
    {
      "cell_type": "markdown",
      "metadata": {
        "id": "eq2AdS7ZB6hs"
      },
      "source": [
        "---"
      ]
    },
    {
      "cell_type": "markdown",
      "metadata": {
        "id": "6A6oCBj_B7Jc"
      },
      "source": [
        "#### Task 3: Front Operation\n",
        "\n",
        "Element present at the start of the queue is most important and we often need it without dequeuing it while solving problems. \n",
        "\n",
        "The front operation of a queue returns the front element in the queue.\n",
        "\n",
        "**Note:** The front operation does not alter the queue in any manner.  \n",
        "\n",
        "Follow the steps given below to perform the front operation on `queue_1` using Python:\n",
        "\n",
        "1. Create a function `front()`. This  function should accept the `queue` object as a parameter.\n",
        "\n",
        "2. Return the first element of the queue inside the `front()` function using the list indexing method. \n",
        "   \n",
        " \n",
        "3. Store the front element of the queue in `front_element_1` by calling the `front()` function and print it.\n",
        "\n",
        "4. Print all the values in `queue_1` and observe if there are any changes or not.\n"
      ]
    },
    {
      "cell_type": "code",
      "execution_count": null,
      "metadata": {
        "colab": {
          "base_uri": "https://localhost:8080/"
        },
        "id": "Hu0X2SX4DC-n",
        "outputId": "e27f1b13-8e1a-43da-c0cf-9dd99d2d5ee8"
      },
      "outputs": [
        {
          "data": {
            "text/plain": [
              "1"
            ]
          },
          "execution_count": 4,
          "metadata": {},
          "output_type": "execute_result"
        }
      ],
      "source": [
        "# S3.1: Implement front operation.\n",
        "def front(queue):\n",
        "  return queue[0]\n",
        "front(queue)"
      ]
    },
    {
      "cell_type": "markdown",
      "metadata": {
        "id": "sZk5J2jXDhcV"
      },
      "source": [
        "You may observe that there are two elements in the queue i.e. `4` and `5` and element `4` is returned as it is at the front of the queue. Also there is no change in `queue_1` after calling the `front()` function. \n",
        "\n"
      ]
    },
    {
      "cell_type": "markdown",
      "metadata": {
        "id": "P0T9IQXSD2CC"
      },
      "source": [
        "---"
      ]
    },
    {
      "cell_type": "markdown",
      "metadata": {
        "id": "QYPDMxoUD9CV"
      },
      "source": [
        "#### Task 4: Rear Operation\n",
        "\n",
        "Element present at the end of the queue is most often required to perform certain algorithms.\n",
        "\n",
        "The rear operation of a queue returns the last element in the queue. This does not alter the queue in any manner.  \n",
        "\n",
        "\n",
        "Follow the steps given below to perform the rear operation on `queue_1` using Python:\n",
        "\n",
        "1. Create a function `rear()`. This function should accept the `queue` object as a parameter.\n",
        "\n",
        "2. Return the last element of the queue using the list indexing method inside the `rear()` function. \n",
        "   \n",
        " \n",
        "3. Store the rear element of the queue in the `rear_element_1` by calling the `rear()` function and print it.\n",
        "\n",
        "4. Print all the values in `queue_1` and observe if there are any changes or not.\n",
        "\n",
        "\n"
      ]
    },
    {
      "cell_type": "code",
      "execution_count": null,
      "metadata": {
        "colab": {
          "base_uri": "https://localhost:8080/"
        },
        "id": "ISs9vwM2ECtn",
        "outputId": "21aefb51-fcf9-4eed-b996-6ac5ac8e8c69"
      },
      "outputs": [
        {
          "data": {
            "text/plain": [
              "1"
            ]
          },
          "execution_count": 5,
          "metadata": {},
          "output_type": "execute_result"
        }
      ],
      "source": [
        "# S4.1: Implement rear operation.\n",
        "def rear(queue):\n",
        "  return queue[-1]\n",
        "rear(queue)"
      ]
    },
    {
      "cell_type": "markdown",
      "metadata": {
        "id": "YAUnNa9TELqV"
      },
      "source": [
        "You may observe that `5` is returned as it is at the rear of the queue.\n",
        "\n",
        "Also, there is no change in the queue after calling the `rear()` function. \n",
        "\n"
      ]
    },
    {
      "cell_type": "markdown",
      "metadata": {
        "id": "0ctNzXyII24A"
      },
      "source": [
        "---"
      ]
    },
    {
      "cell_type": "markdown",
      "metadata": {
        "id": "8COHtMm5I3lO"
      },
      "source": [
        "#### Task 5: IsEmpty Operation\n",
        "\n",
        "Often we need to know whether our queue is empty or not. \n",
        "\n",
        "The `IsEmpty` operation of a queue returns whether the queue is empty or not.\n",
        "\n",
        "\n",
        "Follow the steps given below to check whether the  `queue_1` is empty or not using Python:\n",
        "\n",
        "1. Create a function `IsEmpty()`. This function should accept the `queue` object as a parameter.\n",
        "\n",
        "2. Check the length of the `queue` inside this function.  If the length is `0`, return `\"Queue is empty\"` else return `\"Queue is not empty\"`.\n",
        "\n",
        "2. Call the `IsEmpty()` function and print the values of `queue_1`.\n",
        "   \n",
        " \n"
      ]
    },
    {
      "cell_type": "code",
      "execution_count": null,
      "metadata": {
        "colab": {
          "base_uri": "https://localhost:8080/"
        },
        "id": "ipkVKIr2I9tC",
        "outputId": "caa6ea13-eb26-4126-eaa6-f5033ea37ba5"
      },
      "outputs": [
        {
          "name": "stdout",
          "output_type": "stream",
          "text": [
            "Queue is not empty\n"
          ]
        }
      ],
      "source": [
        "# S5.1: Implement an IsEmpty operation.\n",
        "def isEmpty(queue):\n",
        "  if len(queue)==0:\n",
        "    print('Queue is empty')\n",
        "  else:\n",
        "    print('Queue is not empty')\n",
        "isEmpty(queue)"
      ]
    },
    {
      "cell_type": "markdown",
      "metadata": {
        "id": "8GxA4YnhJGW9"
      },
      "source": [
        "As we can observe that the queue is not empty and there is no change in the queue after calling the `IsEmpty()` function."
      ]
    },
    {
      "cell_type": "markdown",
      "metadata": {
        "id": "n3YA-MECJLB5"
      },
      "source": [
        "---"
      ]
    },
    {
      "cell_type": "markdown",
      "metadata": {
        "id": "Nb1mXVDAQ72S"
      },
      "source": [
        "#### Task 6: Size Operation\n",
        "\n",
        "We may need to keep a check on how many elements are present in the queue sometimes while solving the coding problem.\n",
        "\n",
        "The size operation of the queue returns the number of elements in the queue. It is also the length of the queue.\n",
        "\n",
        "Follow the steps given below to perform size operation on  `queue_1` using Python:\n",
        "\n",
        "1. Create a function `size()`. This function should accept the `queue` object as a parameter.\n",
        "\n",
        "2. Return the length of `queue_1` inside the `size()` function.\n",
        "\n",
        "2. Call the `size()` function and print the size of `queue_1`.\n",
        "\n",
        "3. Print all the values in `queue_1` and observe if there are any changes or not after calling the `size()` function.\n"
      ]
    },
    {
      "cell_type": "code",
      "execution_count": null,
      "metadata": {
        "colab": {
          "base_uri": "https://localhost:8080/"
        },
        "id": "5TdmQxwdQ98P",
        "outputId": "9b568127-7130-4420-d20a-b7852494f1a6"
      },
      "outputs": [
        {
          "data": {
            "text/plain": [
              "1"
            ]
          },
          "execution_count": 7,
          "metadata": {},
          "output_type": "execute_result"
        }
      ],
      "source": [
        "# S6.1: Implement size operation.\n",
        "def size(queue):\n",
        "  return len(queue)\n",
        "size(queue)\n"
      ]
    },
    {
      "cell_type": "markdown",
      "metadata": {
        "id": "_8_IZesTRG72"
      },
      "source": [
        "Hence, the `size()` function returns the number of elements present in the queue. It does not affect the queue.\n"
      ]
    },
    {
      "cell_type": "markdown",
      "metadata": {
        "id": "R_SD1SjKSAPy"
      },
      "source": [
        "---"
      ]
    },
    {
      "cell_type": "markdown",
      "metadata": {
        "id": "lR6A_vk4SA1P"
      },
      "source": [
        "#### Task 7: Using a Linked List\n",
        "\n",
        "Let us learn how to implement a queue using a linked list. We will first create a queue and then perform enqueue and dequeue operations on it.\n",
        "\n",
        "Follow the steps given below to implement a queue using a linked list.\n",
        "\n",
        "1. Create a class `Node` with `data` and `next` instance variables:"
      ]
    },
    {
      "cell_type": "code",
      "execution_count": null,
      "metadata": {
        "id": "l-p9K2-vST46"
      },
      "outputs": [],
      "source": [
        "# S7.1: Create 'Node' class\n",
        "class Node:\n",
        "  def __init__(self,data):\n",
        "    self.next = None\n",
        "    self.data = data"
      ]
    },
    {
      "cell_type": "markdown",
      "metadata": {
        "id": "klbRG8CqTg_n"
      },
      "source": [
        "2. Create a class `Queue` with `head` and `last` instance variables. The variable `head` points to the first element in the linked list while the `last` points to the last element. Initialize both the variables to `None`.\n",
        "\n",
        "3. Define a `enqueue()` function inside the `Queue` class. This function takes `Data` as input which is nothing but the element to be enqueued. Inside this function, check:\n",
        "  - If `last` is `None` i.e if there is no last element, then `head` must be the new node having element `Data` and `last` must be the new `head` element.\n",
        "  - Else assign new node having element `Data` to the next node of the last node and `last` must be the recently added node i.e.\n",
        "  ```python\n",
        "    last.next = Node(data)\n",
        "    last = last.next\n",
        "  ```\n",
        "\n",
        "4. Define another function `dequeue()` inside the class `Queue`. Inside this function, check:\n",
        "   - If the `head` is `None` i.e if there is no element in the queue, return `None`.\n",
        "   - Else fetch the first element `head.data` and store it in a variable `to_return`. Make the next element as the first element of the list. Return the value of the `to_return` variable.\n",
        "   \n",
        "\n",
        "\n",
        "\n"
      ]
    },
    {
      "cell_type": "code",
      "execution_count": null,
      "metadata": {
        "id": "aCajw0uUxgOM"
      },
      "outputs": [],
      "source": [
        "# S7.2: Create 'Queue' class and define 'enqueue()' and 'dequeue()' functions.\n",
        "class Queue:\n",
        "  def __init__(self):\n",
        "    self.front = None\n",
        "    self.rear  = None\n",
        "      \n",
        "  # Create 'enqueue()' operation and pass 'self' and 'data' as parameters. \n",
        "  def enqueue(self,data):\n",
        "    if self.rear is None:\n",
        "      self.front = Node(data)\n",
        "      self.rear = self.front\n",
        "    else:\n",
        "      self.rear.next = Node(data)\n",
        "      self.rear = self.rear.next\n",
        "   # Create 'dequeue()' operation and pass 'self' as parameter.\n",
        "  def dequeue(self):\n",
        "    if self.front is None:\n",
        "      print('Queue is empty')\n",
        "      return\n",
        "    else:\n",
        "      temp = self.front.data\n",
        "      self.front = self.front.next\n",
        "      return temp\n"
      ]
    },
    {
      "cell_type": "markdown",
      "metadata": {
        "id": "0kach0-4d_Ux"
      },
      "source": [
        "5. Create an object of `Queue` class and perform the following operations on the queue:\n",
        "  - Enqueue `1`.\n",
        "  - Enqueue `2`.\n",
        "  - Enqueue `3`.\n",
        "  - Enqueue `4`.\n",
        "  - Dequeue.\n",
        "  - Dequeue.\n",
        "  - Print the queue using `while` loop.\n",
        "\n",
        "\n",
        "\n"
      ]
    },
    {
      "cell_type": "code",
      "execution_count": null,
      "metadata": {
        "colab": {
          "base_uri": "https://localhost:8080/"
        },
        "id": "n25LilZceYNs",
        "outputId": "11c12b2c-3ae1-4d5b-96a9-9456c8739322"
      },
      "outputs": [
        {
          "name": "stdout",
          "output_type": "stream",
          "text": [
            "3\n",
            "4\n"
          ]
        }
      ],
      "source": [
        "# S7.3: perform the above operations using the object of the 'Queue' class.\n",
        "q = Queue()\n",
        "\n",
        "# Enqueue 1, 2, 3, and 4.\n",
        "q.enqueue(1)\n",
        "q.enqueue(2)\n",
        "q.enqueue(3)\n",
        "q.enqueue(4)\n",
        "# Dequeue twice.\n",
        "q.dequeue()\n",
        "q.dequeue()\n",
        "# Print the queue.\n",
        "curr = q.front\n",
        "while(curr):\n",
        "  print(curr.data)\n",
        "  curr = curr.next"
      ]
    },
    {
      "cell_type": "markdown",
      "metadata": {
        "id": "Zyc8rP6tRWas"
      },
      "source": [
        "---"
      ]
    }
  ],
  "metadata": {
    "colab": {
      "collapsed_sections": [],
      "name": "2022-01-12_Sarvesh_Lesson 66 - Abstract data types - Queues",
      "provenance": []
    },
    "kernelspec": {
      "display_name": "Python 3",
      "name": "python3"
    }
  },
  "nbformat": 4,
  "nbformat_minor": 0
}
