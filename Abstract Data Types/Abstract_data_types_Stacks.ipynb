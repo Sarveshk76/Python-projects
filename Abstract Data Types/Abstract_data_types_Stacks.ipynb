{
  "cells": [
    {
      "cell_type": "markdown",
      "metadata": {
        "id": "nhRRgrQ6zE0I"
      },
      "source": [
        "# Lesson 65: Abstract Data Types - Stacks"
      ]
    },
    {
      "cell_type": "markdown",
      "metadata": {
        "id": "qFj1tJOC_-oY"
      },
      "source": [
        "---"
      ]
    },
    {
      "cell_type": "markdown",
      "metadata": {
        "id": "XLcBmHd68Jw6"
      },
      "source": [
        "---"
      ]
    },
    {
      "cell_type": "markdown",
      "metadata": {
        "id": "6F0wJssqp76v"
      },
      "source": [
        "#### Task 1: Introduction to Stacks\n",
        "\n",
        "<img src= 'https://s3-whjr-v2-prod-bucket.whjr.online/237808b7-1408-4cd3-b2bc-e640379fb686.gif'  align= 'right' width=400 height=150>\n",
        "\n",
        "Ever heard about the terms like\n",
        "- A stack of coins. \n",
        "- A stack of books.\n",
        "- A stack of plates. \n",
        "\n",
        "\n",
        "\n",
        "What does \"stack\" mean in these terms? A stack is a structure where the items are placed on top of each other.\n",
        "\n",
        "A stack is also a linear data structure in programming where data elements are placed on top of each other. \n",
        "\n",
        "<center><img src= 'https://s3-whjr-v2-prod-bucket.whjr.online/167080e0-bcc8-47a0-927d-bfbf46e7b5f9.png' height = 300></center>\n",
        "\n",
        "We can perform the following operations on stacks:\n",
        "\n",
        "1. **Push operation**: Insertion of elements into the stack.\n",
        "2. **Pop operation**: Deletion of elements into the stack.\n",
        "\n",
        "But there are constraints in the push and pop operations of the stack. We can only insert elements on the top of the stack. And only the top element will be  deleted from the stack.\n",
        "\n",
        "This is because the stack data structure follows the **LIFO** principle i.e. **Last in First Out**. LIFO principle means that the element inserted at the end will be deleted first from the stack or vice versa.\n",
        "\n",
        "The image below shows the **push** and **pop** operation of stacks where a pointer **top** is used to point the current element at the top.\n",
        "\n",
        "<img src= 'https://s3-whjr-v2-prod-bucket.whjr.online/7fbb3d0b-7c15-4ee1-9819-96c3b2885a56.png'  align= 'left' width= 350>\n",
        "&nbsp;&nbsp;&nbsp;&nbsp;&nbsp;&nbsp;&nbsp;&nbsp;&nbsp;&nbsp;&nbsp;&nbsp;&nbsp;&nbsp;&nbsp;&nbsp;&nbsp;&nbsp;&nbsp;&nbsp;&nbsp;&nbsp;&nbsp;&nbsp;&nbsp;&nbsp;&nbsp;&nbsp;&nbsp;&nbsp;&nbsp;\n",
        "<img src= 'https://s3-whjr-v2-prod-bucket.whjr.online/cf9a2c4e-9fe8-40d6-8481-7f8c4c174082.png'   width= 350> </br>\n",
        "\n",
        "\n",
        "\n",
        "\n",
        "Now, let's move ahead and implement the stacks and it's operations using:\n",
        "- Lists \n",
        "- Linked lists\n",
        "\n"
      ]
    },
    {
      "cell_type": "markdown",
      "metadata": {
        "id": "uxBve6Uj42UK"
      },
      "source": [
        "---"
      ]
    },
    {
      "cell_type": "markdown",
      "metadata": {
        "id": "fcFrULsG36Wn"
      },
      "source": [
        "#### Task 2: Stack Operations using Lists\n",
        "\n",
        "**Push Operation**\n",
        "\n",
        "As mentioned above, pushing an element in the stack is just adding an element at the top of the stack. This can be implemented by appending elements in the lists one by one.\n",
        "\n",
        "Let's assume a list `my_stack` is the stack data structure. Create an empty list `my_stack` to create a stack data structure:\n",
        "\n",
        "\n",
        "\n",
        "\n",
        "\n"
      ]
    },
    {
      "cell_type": "code",
      "execution_count": null,
      "metadata": {
        "id": "E-I6V0ur6FEb"
      },
      "outputs": [],
      "source": [
        "# S2.1: Create an empty stack 'my_stack'.\n",
        "my_stack = []"
      ]
    },
    {
      "cell_type": "markdown",
      "metadata": {
        "id": "SFzxSmjF6RLT"
      },
      "source": [
        "In the above code, an empty stack `my_stack` is created.\n",
        "\n",
        "To implement push operation on `my_stack` follow the steps below:\n",
        "\n",
        "1. Define a `push()` function which will take two input parameters:\n",
        "  - `stack`: An existing stack (list).\n",
        "  - `data`: An element to be pushed inside the stack. \n",
        "\n",
        "2. Use the `append()` function inside the `push()` function to add `data` value at the end of the `stack` list.\n"
      ]
    },
    {
      "cell_type": "code",
      "execution_count": null,
      "metadata": {
        "id": "yGOKkRYU7rBE"
      },
      "outputs": [],
      "source": [
        "# S2.2: Define the 'push()' function for the stack.\n",
        "def push(stack,data):\n",
        "  stack.append(data)\n"
      ]
    },
    {
      "cell_type": "markdown",
      "metadata": {
        "id": "2m0JAVpg8ECK"
      },
      "source": [
        "As we can observe, the `push()` function is created. Now let's perform the operations below to verify the push operation of the elements at the end of the stack:\n",
        "\n",
        "\n",
        "1. Push value `0` in the empty stack `my_stack`.\n",
        "3. Print `my_stack` to verify the insertion.\n",
        "4. Push value `1` in the stack `my_stack`.\n",
        "5. Print the stack to verify the insertion.\n",
        "6. Push value `2` in the stack `my_stack`.\n",
        "7. Print the stack to verify the insertion.\n",
        "\n"
      ]
    },
    {
      "cell_type": "code",
      "execution_count": null,
      "metadata": {
        "colab": {
          "base_uri": "https://localhost:8080/"
        },
        "id": "-WhmX0X771Pu",
        "outputId": "fdba94ed-607b-419b-99a8-627469cd7a58"
      },
      "outputs": [
        {
          "name": "stdout",
          "output_type": "stream",
          "text": [
            "[0, 0]\n",
            "[0, 0, 1]\n",
            "[0, 0, 1, 2]\n"
          ]
        }
      ],
      "source": [
        "# S2.3: Create a stack and push the elements at the top of the stack.\n",
        "\n",
        "# Push value '0' in the 'my_stack'.\n",
        "push(my_stack,0)\n",
        "# Print the stack to verify the insertion.\n",
        "print(my_stack)\n",
        "\n",
        "\n",
        "# Push value '1' in the stack.\n",
        "push(my_stack,1)\n",
        "# Print the stack to verify the insertion.\n",
        "print(my_stack)\n",
        "\n",
        "\n",
        "# Push value '2' in the stack.\n",
        "push(my_stack,2)\n",
        "# Print the stack to verify the insertion.\n",
        "print(my_stack)"
      ]
    },
    {
      "cell_type": "markdown",
      "metadata": {
        "id": "xwydP5l29yzt"
      },
      "source": [
        "As it can be observed, the elements `0`, `1`, `2` are added to the stack one by one. Each element is appended at the end i.e on top of the stack.\n",
        "\n",
        "Now, let's look into the pop operation in a Stack using the list.\n"
      ]
    },
    {
      "cell_type": "markdown",
      "metadata": {
        "id": "h9A1nqkuPM48"
      },
      "source": [
        "**Pop Operation**\n",
        "\n",
        "Popping an element from the stack is the same as deleting an element but from the top. \n",
        "\n",
        "Let's implement the pop operation in a stack with the steps below:\n",
        "\n",
        "1. Define a function `pop()` which will take an existing stack (list) `stack` as an input parameter.\n",
        "\n",
        "2. Call the predefined `pop()` operation inside the `pop()` function using `stack` to delete the last element.\n"
      ]
    },
    {
      "cell_type": "code",
      "execution_count": null,
      "metadata": {
        "id": "MyPAEh_t9yZB"
      },
      "outputs": [],
      "source": [
        "# S2.4:  Define the 'pop()' for the stack.\n",
        "def pop(stack):\n",
        "  stack.pop()"
      ]
    },
    {
      "cell_type": "markdown",
      "metadata": {
        "id": "3wmM9bbxAkf4"
      },
      "source": [
        "As we can observe, the `pop()` function is created. Now let us use this function two times on `mystack`:\n",
        "\n"
      ]
    },
    {
      "cell_type": "code",
      "execution_count": null,
      "metadata": {
        "colab": {
          "base_uri": "https://localhost:8080/"
        },
        "id": "Hb8T5ULfA3MP",
        "outputId": "c89db384-a1fb-42c2-e1c1-7a4f86b8edd6"
      },
      "outputs": [
        {
          "name": "stdout",
          "output_type": "stream",
          "text": [
            "[0, 0, 1]\n",
            "[0, 0]\n"
          ]
        }
      ],
      "source": [
        "# S2.5: Apply 'pop()' function on 'my_stack'.\n",
        "\n",
        "# Pop the top element of the stack\n",
        "pop(my_stack)\n",
        "# Print the stack to verify the deletion.\n",
        "print(my_stack)\n",
        "\n",
        "# Pop the top element of the stack\n",
        "pop(my_stack)\n",
        "# Print the stack to verify the deletion.\n",
        "print(my_stack)"
      ]
    },
    {
      "cell_type": "markdown",
      "metadata": {
        "id": "spAp8_0gBhU9"
      },
      "source": [
        "As it can be observed, when the first time `pop()` function was called, element `2` was removed from the `my_stack`. In the second time, element `1` was removed from the `my_stack`."
      ]
    },
    {
      "cell_type": "markdown",
      "metadata": {
        "id": "y0-tupw1TDOZ"
      },
      "source": [
        "---"
      ]
    },
    {
      "cell_type": "markdown",
      "metadata": {
        "id": "nbMW2sXDJ4iI"
      },
      "source": [
        "#### Task 3: Top Operation\n",
        "\n",
        "Element present at the top of the stack is most important and we often need it without poping while solving problems. \n",
        "\n",
        "The top operation of a stack returns the top-most element in the stack. This does not alter the stack in any manner.  \n",
        "\n",
        "Following are the steps to perform the top operation in stack `my_stack` using Python:\n",
        "\n",
        "1. Create a list (stack) `my_stack` having elements `1`, `2`, and `3`. Create a function `top(stack)` that returns `stack[-1]`, the last element in the list. \n",
        "\n",
        "2. Call the `top()` function and pass `my_stack` as an argument. Store the return value of this function in a variable `top_element_1`. \n"
      ]
    },
    {
      "cell_type": "code",
      "execution_count": null,
      "metadata": {
        "id": "MnfHF536Ki1J"
      },
      "outputs": [],
      "source": [
        "# S3.1: Implement 'top()' function\n",
        "my_stack1 = [1,2,3,4]\n",
        "def top(stack):\n",
        "  return stack[-1]"
      ]
    },
    {
      "cell_type": "markdown",
      "metadata": {
        "id": "MLGxFH107DVG"
      },
      "source": [
        "5. Print `top_element_1` and print the `my_stack`:"
      ]
    },
    {
      "cell_type": "code",
      "execution_count": null,
      "metadata": {
        "colab": {
          "base_uri": "https://localhost:8080/"
        },
        "id": "r2PTsQCv7DjN",
        "outputId": "af207158-a498-4d5e-cb17-ce44334deeaf"
      },
      "outputs": [
        {
          "data": {
            "text/plain": [
              "4"
            ]
          },
          "execution_count": 8,
          "metadata": {},
          "output_type": "execute_result"
        }
      ],
      "source": [
        "# S3.2: Print top element and print stack\n",
        "top(my_stack1)"
      ]
    },
    {
      "cell_type": "markdown",
      "metadata": {
        "id": "M4cUcHHPkteJ"
      },
      "source": [
        "You can observe that there is no change in the stack after executing the `top()` function. \n",
        "\n",
        "Number 2 is returned as it is at the top of the stack."
      ]
    },
    {
      "cell_type": "markdown",
      "metadata": {
        "id": "EgFOk63SlC1K"
      },
      "source": [
        "---"
      ]
    },
    {
      "cell_type": "markdown",
      "metadata": {
        "id": "sjXf00PfNN1m"
      },
      "source": [
        "#### Task 4: IsEmpty Operation\n",
        "\n",
        "Another popular operation for stacks is the `IsEmpty` operation. While continuously popping elements from a stack, we need to know whether our stack is empty or not.\n",
        "\n",
        "The `IsEmpty` operation of a stack returns whether the stack is empty or not.\n",
        "\n",
        "Following are the steps to perform the `IsEmpty` operation in stack `my_stack`:\n",
        "\n",
        "1. Define the `isEmpty()` function which will take the existing stack as the input parameter.\n",
        "\n",
        "2. Check whether the length of the stack is `0` inside `isEmpty()` function. \n",
        "  - If  `len(stack) == 0`, return $0$ \n",
        "  - else return $1$. \n",
        "\n"
      ]
    },
    {
      "cell_type": "code",
      "execution_count": null,
      "metadata": {
        "colab": {
          "base_uri": "https://localhost:8080/"
        },
        "id": "fCrJFb6wNuvy",
        "outputId": "95500dba-3f24-4fb3-84c8-34b6ad239d18"
      },
      "outputs": [
        {
          "data": {
            "text/plain": [
              "False"
            ]
          },
          "execution_count": 9,
          "metadata": {},
          "output_type": "execute_result"
        }
      ],
      "source": [
        "# T4.1: Define the 'isEmpty()' function for the stack\n",
        "def isEmpty(stack):\n",
        "  if len(stack)==0:\n",
        "    return True\n",
        "  else:\n",
        "    return False\n",
        "# Call the function 'IsEmpty()' on 'my_stack'\n",
        "isEmpty(my_stack1)\n"
      ]
    },
    {
      "cell_type": "markdown",
      "metadata": {
        "id": "FFrtXRXQlQ6m"
      },
      "source": [
        "As we can observe stack is not empty and there is no change in the stack."
      ]
    },
    {
      "cell_type": "markdown",
      "metadata": {
        "id": "18nqFGn0GUEa"
      },
      "source": [
        "**Q:** What will be the outcome of the following operations on `my_stack`: \n",
        "\n",
        "```python\n",
        "push(my_stack, 1)\n",
        "push(my_stack, 2)\n",
        "push(my_stack, 3)\n",
        "push(my_stack, 4)\n",
        "push(my_stack, 5)\n",
        "print(top(my_stack))\n",
        "print(isEmpty(my_stack))\n",
        "```\n",
        "\n",
        "\n",
        "**A:** \n"
      ]
    },
    {
      "cell_type": "markdown",
      "metadata": {
        "id": "iXQdT8k1lBZA"
      },
      "source": [
        "---"
      ]
    },
    {
      "cell_type": "markdown",
      "metadata": {
        "id": "HA9QjME9VSye"
      },
      "source": [
        "#### Task 5: Size Operation\n",
        "\n",
        "While programming, we need to keep a check on the memory spent to store the elements in the data structure. A size operation can help with that. It will tell us the current number of the element present in the data structure in use.\n",
        "\n",
        "Size operation of a stack returns the length of the stack.\n",
        "\n",
        "Following are the steps to perform the `size` operation in stack `my_stack`:\n",
        "\n",
        "1. Define a function `size()` that will take the existing stack as the input parameter.\n",
        "\n",
        "2. Use the `len()` function inside `size` function and return the `size` of the stack. \n",
        "\n"
      ]
    },
    {
      "cell_type": "code",
      "execution_count": null,
      "metadata": {
        "colab": {
          "base_uri": "https://localhost:8080/"
        },
        "id": "jfeBZ69rV8tY",
        "outputId": "8a21e0b8-1137-40bf-ef55-92d69ab649e0"
      },
      "outputs": [
        {
          "data": {
            "text/plain": [
              "4"
            ]
          },
          "execution_count": 10,
          "metadata": {},
          "output_type": "execute_result"
        }
      ],
      "source": [
        "# S5.1: Define the 'size()' function for the stack\n",
        "def size(stack):\n",
        "  return len(stack)\n",
        "\n",
        "# Call the function 'size()' on 'my_stack'\n",
        "size(my_stack1)"
      ]
    },
    {
      "cell_type": "markdown",
      "metadata": {
        "id": "j1UyEttHlc0n"
      },
      "source": [
        "Hence, the `size()` function returns the number of elements present in the stack. It does not affect the stack."
      ]
    },
    {
      "cell_type": "markdown",
      "metadata": {
        "id": "EgYptSR_G9Ld"
      },
      "source": [
        "**Q:** What will be the outcome if we push 1, 2, 3, 4, and 5 then use pop operation 5 times? Will the stack be empty? What will be the size of the stack?\n",
        "\n",
        "**A:**"
      ]
    },
    {
      "cell_type": "markdown",
      "metadata": {
        "id": "1Z_dxEeJk-J4"
      },
      "source": [
        "---"
      ]
    },
    {
      "cell_type": "markdown",
      "metadata": {
        "id": "5deYTlg0-qfR"
      },
      "source": [
        "#### Task 6: Using a Linked List\n",
        "\n",
        "We have studied various operations in Stacks. You can observe that it is very easy to implement a stack using the list. \n",
        "\n",
        "You have implemented a linked list in the last class using `Class` and `objects`. Our challenge in this activity will be to implement the stack we have already implemented using a linked list. \n",
        "\n",
        "Declare the Node using `class N` as we did in the linked list class: "
      ]
    },
    {
      "cell_type": "code",
      "execution_count": null,
      "metadata": {
        "id": "fcHlheJL-o_x"
      },
      "outputs": [],
      "source": [
        "# S6.1: Linked list Node\n",
        "class N:\n",
        "  def __init__(self,data):\n",
        "    self.data = data\n",
        "    self.next = None"
      ]
    },
    {
      "cell_type": "markdown",
      "metadata": {
        "id": "7diIAGc7jLlj"
      },
      "source": [
        "Declare linked list class `LL` as done in the linked list class. \n",
        "\n",
        "Now, let us try to implement the functions we have done in the above activities.\n",
        "\n",
        "The `push()` function is used to push elements in the stack. It is the same as the `insert_begin()` function we did in the linked list class. The `push()` will take `data` as an attribute.  \n",
        "\n",
        "Following are the steps to implement the `push()` function in stacks using a linked list:\n",
        "\n",
        "1. Create a node with the value of node equal to `data` and the `next` pointer pointing towards None. \n",
        "\n",
        "2. Make next of new node as head,  and make `new_node` as a new head. \n",
        "\n",
        "\n",
        "\n"
      ]
    },
    {
      "cell_type": "markdown",
      "metadata": {
        "id": "Z6JXjhZbiZ-J"
      },
      "source": [
        "Now, let us implement the `pop()` function for a stack using a linked list.\n",
        "\n",
        "The `pop()` function is used to pop an element from the stack. It does not take any attribute and return the data of the Node popped out of the stack.\n",
        "\n",
        "Following are the steps to implement the `pop()` function in the stack using a linked list:\n",
        "\n",
        "1. Check whether the `head` pointer points to `None`. If yes, the print `Stack is empty` and return.\n",
        "\n",
        "2. Declare a pointer `temp` and point it to the `head`. \n",
        "\n",
        "3. Check whether the next of the `temp` node is `None`. If yes, then set `head` to None and return the data of the `temp` node. Else, store the data of the next node of `temp` in a variable `element` and return the value of this variable. \n",
        "\n",
        "4. Check if either of the above cases is not true, increment the `head` pointer and return the `data` stored in the `temp` pointer.\n",
        "\n",
        "5. Set the temp as None. (Free the pointer)\n",
        "\n"
      ]
    },
    {
      "cell_type": "markdown",
      "metadata": {
        "id": "QeHtJWBuimYR"
      },
      "source": [
        "The `top()` function is very easy to implement in the stacks using a linked list. It does not take any attributes and return data from the head.\n",
        "\n",
        "Following are the steps to implement the `top()` function in stacks using a linked list:\n",
        "\n",
        "1. Check whether the `head` pointer is pointing towards `None`. If yes, then print `Stack is empty`.\n",
        "\n",
        "2. Else, return the data stored in the head Node. \n",
        "\n"
      ]
    },
    {
      "cell_type": "markdown",
      "metadata": {
        "id": "b4f07TShipcP"
      },
      "source": [
        "The `size()` function returns the present size of the stack. It takes no attribute and returns the number of elements present in the stack. \n",
        "\n",
        "Following are the steps to implement the `size()` function in the stacks using a linked list:\n",
        "\n",
        "1. Check whether the `head` pointer points to `None`. If yes, then return `0`. Else, declare a `temp` pointer and point it towards head Node.\n",
        "\n",
        "3. Declare a `count` variable to keep track of the number of Nodes.\n",
        "\n",
        "4. Iterate `temp` pointer over all the Nodes using `while` loop and increment `count`.\n",
        "\n",
        "5. Return `count` as the size of the stack.\n",
        "\n"
      ]
    },
    {
      "cell_type": "markdown",
      "metadata": {
        "id": "qbcOaloRisEf"
      },
      "source": [
        "The `IsEmpty()` returns whether the stack is empty or not. \n",
        "\n",
        "To implement the `IsEmpty()` function in stacks using a linked list:\n",
        "\n",
        " - Determine whether the size of the stack is $0$. If yes, return `True` else return `False`.\n",
        "\n",
        "The `Print()` function is the same as we did in the linked list class:"
      ]
    },
    {
      "cell_type": "code",
      "execution_count": null,
      "metadata": {
        "id": "9Ob2d692-10K"
      },
      "outputs": [],
      "source": [
        "# T6.2: Implement other functions of stack using linked list\n",
        "class LL:\n",
        "  # Create the linked list\n",
        "  def __init__(self):\n",
        "    self.head = None\n",
        "  def push(self,data):\n",
        "    new_node = N(data)\n",
        "    new_node.next = self.head\n",
        "    self.head = new_node\n",
        "  def pop(self):\n",
        "    if self.head is None:\n",
        "      print('Stack is empty')\n",
        "      return\n",
        "    temp = self.head\n",
        "    if temp.next == None:\n",
        "      self.head = None\n",
        "      return temp.data\n",
        "    else:\n",
        "      new_el = temp.next.data\n",
        "      self.head = temp.next\n",
        "      return new_el\n",
        "  def top(self):\n",
        "    if self.head is None:\n",
        "      print('Stack is empty')\n",
        "      return\n",
        "    else:\n",
        "      return self.head.data\n",
        "  def size(self):\n",
        "    if self.head is None:\n",
        "      print('Stack is empty')\n",
        "      return 0\n",
        "    else:\n",
        "      cnt = 0\n",
        "      temp = self.head\n",
        "      while (temp):\n",
        "        cnt += 1\n",
        "        temp = temp.next\n",
        "      return cnt\n",
        "  def isEmpty(self):\n",
        "    if self.size() == 0:\n",
        "      return True\n",
        "    else:\n",
        "      return False\n",
        "  def print(self):\n",
        "    temp = self.head\n",
        "    while (temp):\n",
        "      print(temp.data)\n",
        "      temp = temp.next\n",
        "    "
      ]
    },
    {
      "cell_type": "markdown",
      "metadata": {
        "id": "N3f85nT92TVI"
      },
      "source": [
        "Perform the following operations on stacks using a linked list:\n",
        "\n",
        "1. Push 1\n",
        "\n",
        "2. Push 2\n",
        "\n",
        "3. Push 3\n",
        "\n",
        "4. Push 4\n",
        "\n",
        "5. Print stack\n",
        "\n",
        "6. Pop\n",
        "\n",
        "7. Pop\n",
        "\n",
        "8. Print top\n",
        "\n",
        "9. Print stack\n",
        "\n",
        "10. Check if the stack is empty\n",
        "\n",
        "11. Print stack\n",
        "\n"
      ]
    },
    {
      "cell_type": "code",
      "execution_count": null,
      "metadata": {
        "colab": {
          "base_uri": "https://localhost:8080/"
        },
        "id": "1cWbzzFC-3Gk",
        "outputId": "c6307111-0732-41a6-dab7-8dd85c07d86d"
      },
      "outputs": [
        {
          "name": "stdout",
          "output_type": "stream",
          "text": [
            "4\n",
            "3\n",
            "2\n",
            "1\n",
            "Popping\n",
            "3\n",
            "2\n",
            "1\n",
            "isEmpty:  False\n",
            "3\n",
            "2\n",
            "1\n"
          ]
        }
      ],
      "source": [
        "#S6.1: perform the above operations\n",
        "ll = LL()\n",
        "ll.push(1)\n",
        "ll.push(2)\n",
        "ll.push(3)\n",
        "ll.push(4)\n",
        "ll.print()\n",
        "print('Popping')\n",
        "ll.pop()\n",
        "ll.print()\n",
        "print('isEmpty: ',ll.isEmpty())\n",
        "ll.print()"
      ]
    },
    {
      "cell_type": "markdown",
      "metadata": {
        "id": "JPAAaBsT-n87"
      },
      "source": [
        "---"
      ]
    }
  ],
  "metadata": {
    "colab": {
      "collapsed_sections": [],
      "name": "2022-01-11_Sarvesh_Lesson 65 - Abstract data types - Stacks ",
      "provenance": []
    },
    "kernelspec": {
      "display_name": "Python 3",
      "name": "python3"
    }
  },
  "nbformat": 4,
  "nbformat_minor": 0
}
